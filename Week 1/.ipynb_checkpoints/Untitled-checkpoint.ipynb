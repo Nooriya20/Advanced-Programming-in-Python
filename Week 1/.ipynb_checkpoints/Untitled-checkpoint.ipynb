{
 "cells": [
  {
   "cell_type": "code",
   "execution_count": 1,
   "id": "06f7f6d1-a65f-408d-a7ca-a5d915f3530c",
   "metadata": {},
   "outputs": [],
   "source": [
    "def roundoff (x):\n",
    "    remainder = x%1\n",
    "    if remainder <0.5:\n",
    "        print (\"Rounding down\")\n",
    "        x = x-1\n",
    "    else:\n",
    "        print (\"Rounding up\")\n",
    "        x = x+(1-remainder)\n",
    "        return (x)\n"
   ]
  },
  {
   "cell_type": "code",
   "execution_count": 2,
   "id": "a38a5c5d-787d-47f7-857a-ec818fd1d379",
   "metadata": {},
   "outputs": [
    {
     "name": "stdout",
     "output_type": "stream",
     "text": [
      "Rounding up\n"
     ]
    },
    {
     "data": {
      "text/plain": [
       "57.0"
      ]
     },
     "execution_count": 2,
     "metadata": {},
     "output_type": "execute_result"
    }
   ],
   "source": [
    "roundoff(56.7)"
   ]
  },
  {
   "cell_type": "code",
   "execution_count": null,
   "id": "a16182c5-02a3-4f45-b38c-c8a7b859a6b5",
   "metadata": {},
   "outputs": [],
   "source": []
  }
 ],
 "metadata": {
  "kernelspec": {
   "display_name": "Python 3",
   "language": "python",
   "name": "python3"
  },
  "language_info": {
   "codemirror_mode": {
    "name": "ipython",
    "version": 3
   },
   "file_extension": ".py",
   "mimetype": "text/x-python",
   "name": "python",
   "nbconvert_exporter": "python",
   "pygments_lexer": "ipython3",
   "version": "3.8.8"
  }
 },
 "nbformat": 4,
 "nbformat_minor": 5
}
